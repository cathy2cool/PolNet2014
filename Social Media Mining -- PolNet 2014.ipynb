{
 "metadata": {
  "name": "",
  "signature": "sha256:c176fe1da5f74f70a682cd3e615b722f2ecf6d11cb8f2094e29449af5864e535"
 },
 "nbformat": 3,
 "nbformat_minor": 0,
 "worksheets": [
  {
   "cells": [
    {
     "cell_type": "markdown",
     "metadata": {},
     "source": [
      "Mining Twitter: Exploring Trending Topics\n",
      "=================\n",
      "\n",
      "Twitter API Access\n",
      "--------\n",
      "\n",
      "Twitter implements OAuth 1.0A as its standard authentication mechanism, and in order to use it to make requests to Twitter's API, you'll need to go to https://dev.twitter.com/apps and create a sample application. There are four primary identifiers you'll need to note for an OAuth 1.0A workflow: consumer key, consumer secret, access token, and access token secret. Note that you will need an ordinary Twitter account in order to login, create an app, and get these credentials."
     ]
    },
    {
     "cell_type": "code",
     "collapsed": false,
     "input": [
      "import twitter"
     ],
     "language": "python",
     "metadata": {},
     "outputs": [],
     "prompt_number": 1
    },
    {
     "cell_type": "code",
     "collapsed": false,
     "input": [
      "CONSUMER_KEY = 'wADh1LqyQCR3OmEGqK3SDg'\n",
      "CONSUMER_SECRET = 'FzKWL6bMfL6oHvHwh9daANHuSScXua5K386513FbU6c'\n",
      "OAUTH_TOKEN = '153439378-AuXJgQ8oHmnY0JSabav6kGNoVg5iOB7t9CF3B3cF'\n",
      "OAUTH_TOKEN_SECRET = 'LKm3AlD0fhCE4ofZXYZALxtsMNBaRqXmJWiTgUT1Jlo'"
     ],
     "language": "python",
     "metadata": {},
     "outputs": [],
     "prompt_number": 2
    },
    {
     "cell_type": "code",
     "collapsed": false,
     "input": [
      "auth = twitter.oauth.OAuth(OAUTH_TOKEN, OAUTH_TOKEN_SECRET,\n",
      "                           CONSUMER_KEY, CONSUMER_SECRET)"
     ],
     "language": "python",
     "metadata": {},
     "outputs": [],
     "prompt_number": 3
    },
    {
     "cell_type": "code",
     "collapsed": false,
     "input": [
      "twitter_api = twitter.Twitter(auth=auth)"
     ],
     "language": "python",
     "metadata": {},
     "outputs": [],
     "prompt_number": 4
    },
    {
     "cell_type": "code",
     "collapsed": false,
     "input": [
      "twitter_api"
     ],
     "language": "python",
     "metadata": {},
     "outputs": [
      {
       "metadata": {},
       "output_type": "pyout",
       "prompt_number": 8,
       "text": [
        "<twitter.api.Twitter at 0x10bf1e390>"
       ]
      }
     ],
     "prompt_number": 8
    },
    {
     "cell_type": "code",
     "collapsed": false,
     "input": [
      "q = '#polnet2014' \n",
      "\n",
      "count = 1500\n",
      "\n",
      "# See https://dev.twitter.com/docs/api/1.1/get/search/tweets\n",
      "\n",
      "search_results = twitter_api.search.tweets(q=q, count=count)\n",
      "\n",
      "\n",
      "statuses = search_results['statuses']\n"
     ],
     "language": "python",
     "metadata": {},
     "outputs": [],
     "prompt_number": 9
    },
    {
     "cell_type": "code",
     "collapsed": false,
     "input": [
      "len(statuses)"
     ],
     "language": "python",
     "metadata": {},
     "outputs": [
      {
       "metadata": {},
       "output_type": "pyout",
       "prompt_number": 10,
       "text": [
        "35"
       ]
      }
     ],
     "prompt_number": 10
    },
    {
     "cell_type": "code",
     "collapsed": false,
     "input": [
      "text = statuses[0]['text']\n",
      "screen_name = statuses[0]['user']['screen_name']\n",
      "hashtags = [h['text'] for h in statuses[0]['entities']['hashtags']]\n",
      "mentions = [h['text'] for h in statuses[0]['entities']['user_mentions']]"
     ],
     "language": "python",
     "metadata": {},
     "outputs": [],
     "prompt_number": 19
    },
    {
     "cell_type": "code",
     "collapsed": false,
     "input": [],
     "language": "python",
     "metadata": {},
     "outputs": []
    },
    {
     "cell_type": "code",
     "collapsed": false,
     "input": [],
     "language": "python",
     "metadata": {},
     "outputs": []
    },
    {
     "cell_type": "code",
     "collapsed": false,
     "input": [
      "statuses[0]"
     ],
     "language": "python",
     "metadata": {},
     "outputs": [
      {
       "metadata": {},
       "output_type": "pyout",
       "prompt_number": 14,
       "text": [
        "{u'contributors': None,\n",
        " u'coordinates': None,\n",
        " u'created_at': u'Thu May 29 17:47:51 +0000 2014',\n",
        " u'entities': {u'hashtags': [{u'indices': [105, 116], u'text': u'polnet2014'}],\n",
        "  u'symbols': [],\n",
        "  u'urls': [],\n",
        "  u'user_mentions': []},\n",
        " u'favorite_count': 0,\n",
        " u'favorited': False,\n",
        " u'geo': None,\n",
        " u'id': 472071839406362624,\n",
        " u'id_str': u'472071839406362624',\n",
        " u'in_reply_to_screen_name': None,\n",
        " u'in_reply_to_status_id': None,\n",
        " u'in_reply_to_status_id_str': None,\n",
        " u'in_reply_to_user_id': None,\n",
        " u'in_reply_to_user_id_str': None,\n",
        " u'lang': u'en',\n",
        " u'metadata': {u'iso_language_code': u'en', u'result_type': u'recent'},\n",
        " u'place': None,\n",
        " u'retweet_count': 0,\n",
        " u'retweeted': False,\n",
        " u'source': u'<a href=\"https://about.twitter.com/products/tweetdeck\" rel=\"nofollow\">TweetDeck</a>',\n",
        " u'text': u'Randomly got an email from a former colleague asking for network visualization software recommendations. #polnet2014',\n",
        " u'truncated': False,\n",
        " u'user': {u'contributors_enabled': False,\n",
        "  u'created_at': u'Wed Sep 21 17:21:54 +0000 2011',\n",
        "  u'default_profile': True,\n",
        "  u'default_profile_image': False,\n",
        "  u'description': u'Computational social science grad student  @CSS_GMU I play with complexity, data, modeling, networks, and international relations.',\n",
        "  u'entities': {u'description': {u'urls': []},\n",
        "   u'url': {u'urls': [{u'display_url': u'davidmasad.com',\n",
        "      u'expanded_url': u'http://www.davidmasad.com',\n",
        "      u'indices': [0, 22],\n",
        "      u'url': u'http://t.co/dluGB2vpAH'}]}},\n",
        "  u'favourites_count': 239,\n",
        "  u'follow_request_sent': False,\n",
        "  u'followers_count': 357,\n",
        "  u'following': True,\n",
        "  u'friends_count': 279,\n",
        "  u'geo_enabled': False,\n",
        "  u'id': 377491711,\n",
        "  u'id_str': u'377491711',\n",
        "  u'is_translation_enabled': False,\n",
        "  u'is_translator': False,\n",
        "  u'lang': u'en',\n",
        "  u'listed_count': 38,\n",
        "  u'location': u'Washington, DC',\n",
        "  u'name': u'David Masad',\n",
        "  u'notifications': False,\n",
        "  u'profile_background_color': u'C0DEED',\n",
        "  u'profile_background_image_url': u'http://abs.twimg.com/images/themes/theme1/bg.png',\n",
        "  u'profile_background_image_url_https': u'https://abs.twimg.com/images/themes/theme1/bg.png',\n",
        "  u'profile_background_tile': False,\n",
        "  u'profile_banner_url': u'https://pbs.twimg.com/profile_banners/377491711/1398881913',\n",
        "  u'profile_image_url': u'http://pbs.twimg.com/profile_images/1553373736/Masad_David_CSSSA_2011_normal.jpg',\n",
        "  u'profile_image_url_https': u'https://pbs.twimg.com/profile_images/1553373736/Masad_David_CSSSA_2011_normal.jpg',\n",
        "  u'profile_link_color': u'0084B4',\n",
        "  u'profile_sidebar_border_color': u'C0DEED',\n",
        "  u'profile_sidebar_fill_color': u'DDEEF6',\n",
        "  u'profile_text_color': u'333333',\n",
        "  u'profile_use_background_image': True,\n",
        "  u'protected': False,\n",
        "  u'screen_name': u'badnetworker',\n",
        "  u'statuses_count': 2658,\n",
        "  u'time_zone': u'Atlantic Time (Canada)',\n",
        "  u'url': u'http://t.co/dluGB2vpAH',\n",
        "  u'utc_offset': -10800,\n",
        "  u'verified': False}}"
       ]
      }
     ],
     "prompt_number": 14
    },
    {
     "cell_type": "code",
     "collapsed": false,
     "input": [],
     "language": "python",
     "metadata": {},
     "outputs": []
    },
    {
     "cell_type": "code",
     "collapsed": false,
     "input": [
      "for _ in range(15):\n",
      "    print \"Length of statuses\", len(statuses)\n",
      "    try:\n",
      "        next_results = search_results['search_metadata']['next_results']\n",
      "    except KeyError, e: # No more results when next_results doesn't exist\n",
      "        break\n",
      "        \n",
      "    # Create a dictionary from next_results, which has the following form:\n",
      "    # ?max_id=313519052523986943&q=NCAA&include_entities=1\n",
      "    kwargs = dict([ kv.split('=') for kv in next_results[1:].split(\"&\") ])\n",
      "    \n",
      "    search_results = twitter_api.search.tweets(**kwargs)\n",
      "    statuses += search_results['statuses']"
     ],
     "language": "python",
     "metadata": {},
     "outputs": [
      {
       "output_type": "stream",
       "stream": "stdout",
       "text": [
        "Length of statuses 100\n",
        "Length of statuses"
       ]
      },
      {
       "output_type": "stream",
       "stream": "stdout",
       "text": [
        " 200\n",
        "Length of statuses"
       ]
      },
      {
       "output_type": "stream",
       "stream": "stdout",
       "text": [
        " 200\n"
       ]
      }
     ],
     "prompt_number": 27
    },
    {
     "cell_type": "code",
     "collapsed": false,
     "input": [
      "status_texts = [ status['text'] \n",
      "                 for status in statuses ]\n",
      "\n",
      "screen_names = [ user_mention['screen_name'] \n",
      "                 for status in statuses\n",
      "                     for user_mention in status['entities']['user_mentions'] ]\n",
      "\n",
      "hashtags = [ hashtag['text'] \n",
      "             for status in statuses\n",
      "                 for hashtag in status['entities']['hashtags'] ]"
     ],
     "language": "python",
     "metadata": {},
     "outputs": [],
     "prompt_number": 32
    },
    {
     "cell_type": "heading",
     "level": 2,
     "metadata": {},
     "source": [
      "Create Hashtag Networks"
     ]
    },
    {
     "cell_type": "code",
     "collapsed": false,
     "input": [
      "import networkx as net\n",
      "import utils"
     ],
     "language": "python",
     "metadata": {},
     "outputs": [],
     "prompt_number": 43
    },
    {
     "cell_type": "code",
     "collapsed": false,
     "input": [],
     "language": "python",
     "metadata": {},
     "outputs": []
    },
    {
     "cell_type": "heading",
     "level": 3,
     "metadata": {},
     "source": [
      "Network Metrics in Hashtags"
     ]
    },
    {
     "cell_type": "code",
     "collapsed": false,
     "input": [],
     "language": "python",
     "metadata": {},
     "outputs": []
    },
    {
     "cell_type": "heading",
     "level": 3,
     "metadata": {},
     "source": [
      "Degree Distribution in Hashtag Networks"
     ]
    },
    {
     "cell_type": "code",
     "collapsed": false,
     "input": [],
     "language": "python",
     "metadata": {},
     "outputs": []
    },
    {
     "cell_type": "heading",
     "level": 3,
     "metadata": {},
     "source": [
      "Are you a bot?"
     ]
    },
    {
     "cell_type": "code",
     "collapsed": false,
     "input": [],
     "language": "python",
     "metadata": {},
     "outputs": []
    },
    {
     "cell_type": "code",
     "collapsed": false,
     "input": [],
     "language": "python",
     "metadata": {},
     "outputs": []
    },
    {
     "cell_type": "heading",
     "level": 2,
     "metadata": {},
     "source": [
      "Create Retweet Networks"
     ]
    },
    {
     "cell_type": "code",
     "collapsed": false,
     "input": [],
     "language": "python",
     "metadata": {},
     "outputs": [],
     "prompt_number": 43
    },
    {
     "cell_type": "heading",
     "level": 3,
     "metadata": {},
     "source": [
      "Network Metrics in Retweets"
     ]
    },
    {
     "cell_type": "code",
     "collapsed": false,
     "input": [],
     "language": "python",
     "metadata": {},
     "outputs": []
    },
    {
     "cell_type": "code",
     "collapsed": false,
     "input": [],
     "language": "python",
     "metadata": {},
     "outputs": []
    },
    {
     "cell_type": "heading",
     "level": 2,
     "metadata": {},
     "source": [
      "Network Clustering"
     ]
    },
    {
     "cell_type": "code",
     "collapsed": false,
     "input": [
      "cd Dropbox/PolNet2014/"
     ],
     "language": "python",
     "metadata": {},
     "outputs": [
      {
       "output_type": "stream",
       "stream": "stdout",
       "text": [
        "/Users/master/Dropbox/PolNet2014\n"
       ]
      }
     ],
     "prompt_number": 35
    },
    {
     "cell_type": "code",
     "collapsed": false,
     "input": [
      "import community"
     ],
     "language": "python",
     "metadata": {},
     "outputs": [],
     "prompt_number": 38
    },
    {
     "cell_type": "code",
     "collapsed": false,
     "input": [],
     "language": "python",
     "metadata": {},
     "outputs": []
    },
    {
     "cell_type": "code",
     "collapsed": false,
     "input": [],
     "language": "python",
     "metadata": {},
     "outputs": []
    },
    {
     "cell_type": "heading",
     "level": 3,
     "metadata": {},
     "source": [
      "Basic Sentiment Analysis"
     ]
    },
    {
     "cell_type": "code",
     "collapsed": false,
     "input": [
      "import textblob"
     ],
     "language": "python",
     "metadata": {},
     "outputs": [],
     "prompt_number": 42
    },
    {
     "cell_type": "code",
     "collapsed": false,
     "input": [],
     "language": "python",
     "metadata": {},
     "outputs": []
    },
    {
     "cell_type": "markdown",
     "metadata": {},
     "source": [
      "Sentiment Contagion\n",
      "------\n",
      "\n",
      "Does sentiment cluster in retweet networks?"
     ]
    },
    {
     "cell_type": "code",
     "collapsed": false,
     "input": [],
     "language": "python",
     "metadata": {},
     "outputs": []
    },
    {
     "cell_type": "heading",
     "level": 2,
     "metadata": {},
     "source": [
      "Do you tweet like Justin Bieber?"
     ]
    },
    {
     "cell_type": "heading",
     "level": 4,
     "metadata": {},
     "source": [
      "1. Isolate bigrams from your twitter feed and Justin's twitter feed"
     ]
    },
    {
     "cell_type": "code",
     "collapsed": false,
     "input": [],
     "language": "python",
     "metadata": {},
     "outputs": []
    },
    {
     "cell_type": "heading",
     "level": 4,
     "metadata": {},
     "source": [
      "2. Create bigram co-occurrence networks"
     ]
    },
    {
     "cell_type": "code",
     "collapsed": false,
     "input": [],
     "language": "python",
     "metadata": {},
     "outputs": []
    },
    {
     "cell_type": "heading",
     "level": 4,
     "metadata": {},
     "source": [
      "3. Compute Hamming Distance "
     ]
    },
    {
     "cell_type": "code",
     "collapsed": false,
     "input": [],
     "language": "python",
     "metadata": {},
     "outputs": []
    },
    {
     "cell_type": "heading",
     "level": 4,
     "metadata": {},
     "source": [
      "So... do you?"
     ]
    }
   ],
   "metadata": {}
  }
 ]
}